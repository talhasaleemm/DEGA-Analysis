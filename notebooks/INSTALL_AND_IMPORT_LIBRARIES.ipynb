#@title **INSTALL AND IMPORT LIBRARIES**


# Install Python packages
!pip install --quiet GEOparse pandas numpy scipy matplotlib seaborn scikit-learn rpy2

# (Optional extras for Excel/plot exports)
!pip install --quiet openpyxl xlsxwriter plotly kaleido adjustText

# Import Python libraries
import os
import warnings
from datetime import datetime

import GEOparse
import numpy as np
import pandas as pd
import matplotlib.pyplot as plt
import seaborn as sns
from scipy import stats
from sklearn.decomposition import PCA

# Suppress warnings to keep the output clean
warnings.filterwarnings('ignore')

# Tell matplotlib/seaborn to use default style
plt.style.use('default')
sns.set_palette("husl")

# Activate rpy2 so we can call R/limma‐voom from Python
# (rpy2 should be installed above)
import rpy2.robjects as ro
from rpy2.robjects import pandas2ri
pandas2ri.activate()

